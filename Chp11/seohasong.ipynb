{
 "cells": [
  {
   "cell_type": "markdown",
   "metadata": {},
   "source": [
    "대부분의 프로그램은 정해진 범위에서만 돌아가며 한번에 한줄만 실행됩니다.\n",
    "\n",
    "근데 조금더 알아보면, 프로그램은 사실 동시에 여러 공간에서 동작하는게 가능합니다.\n",
    "\n",
    "이를 동시성이라 부르며, 동시성은 다음의 이점이 있습니다.\n",
    "\n",
    "- (Performance) 동시성으로 인해 작업 처리시간이 짧아집니다.\n",
    "\n",
    "- (Robustness) 하나의 시스템이 망가져도 다른시스템이 온전하게 작업을 처리할수 있습니다.\n",
    "\n",
    "- (Simplicity) 복잡한 작업을 잘개 쪼개 쉬운 작업으로 만들 수 있습니다.\n",
    "\n",
    "- (Communication) 다른사람과 즐겁게 공유 가능합니다."
   ]
  },
  {
   "cell_type": "markdown",
   "metadata": {},
   "source": [
    "## Concurrency\n",
    "\n",
    "보통 컴퓨터에서 뭔가를 기다리는 경우는 다음 두 경우중 하나입니다.\n",
    "\n",
    "- I/O bound\n",
    "\n",
    "> Input, Output 작업에 대부분을 보내는 프로세스 상태입니다.\n",
    "\n",
    "> 일반적으로 CPU가 메모리보다 훨씬 빠르기 때문에 대기상태는 거의 다 I/O bound입니다.\n",
    "\n",
    "- CPU bound\n",
    "\n",
    "> CPU연산에 대부분을 보내는 프로세스 상태입니다.\n",
    "\n",
    "> 보통 CPU에서 빡센 과학적, 수학적, 그래픽적 계산을 할 때 이 상태가 됩니다.\n",
    "\n",
    "동시성과 관련해서 다음 두 종류의 용어를 알아 둘 필요가 있습니다.\n",
    "\n",
    "- 동기 (synchronous)\n",
    "\n",
    "> 하나의 작업 이후 다음 작업이 오는 경우\n",
    "\n",
    "- 비동기 (asynchronous)\n",
    "\n",
    "> 여러 작업들이 순서 상관 없이 독립적으로 이루어 지는 경우\n",
    "\n",
    "웹사이트를 예로 들어볼까요? \n",
    "\n",
    "접속하는 사용자마다 페이지를 렌더링 해주는 작업은 간단하고 빠른 작업입니다.\n",
    "\n",
    "접속자가 많아지더라도 이정도 시간은 기다릴 수 있습니다.\n",
    "\n",
    "**하지만 파일 업로드와 같은 긴 시간이 걸리는 작업은 어떨까요?**\n",
    "\n",
    "동기 구조의 웹서버는 이 작업을 처리할 수가 없습니다. \n",
    "\n",
    "누군가 파일을 업로드하는 동안 서버는 다른사람들에게 페이지를 렌더링해 줄수 없습니다.\n",
    "\n",
    "**이때 우리는 비동기로 한개의 서버에서 동시에 여러작업을 처리할 수 있어야 합니다.**"
   ]
  },
  {
   "cell_type": "markdown",
   "metadata": {},
   "source": [
    "## Queues\n",
    "\n",
    "Queues는 한국말로 대기열이라고 불리며 간단히 말해 선입선출입니다.\n",
    "\n",
    "설거지를 하는 사람을 예로 들어봅니다.\n",
    "\n",
    "1. 혼자 일하기 (대기열 1개)\n",
    "\n",
    "> 접시들을 들어온 순서대로 씻은뒤 말리는 일을 반복합니다.\n",
    "\n",
    "2. 둘이 일하기 (대기열 2개)\n",
    "\n",
    "> 한명은 접시들을 들어온 순서대로 씻고 다른사람에게 건내줍니다.\n",
    "\n",
    "> 다른 한명은 접시를 받는 순서대로 대로 말립니다.\n",
    "\n",
    "상식적으로 혼자보다는 둘이 하는게 더 빠르지만, 이경우 병목현상이 생길 수 있습니다.\n",
    "\n",
    "둘중 한명이 작업속도가 월등히 빠를때, 전체 작업 속도는 둘중 가장 느린 사람의 속도와 같아집니다.\n",
    "\n",
    "이때 동기 방식의 프로세스를 묘사하자면 다음과 같습니다.\n",
    "\n",
    "> 접시를 씻는 사람은 \n",
    "\n",
    "> 접시를 말리는 사람이 접시를 다 말릴 때까지 기다렸다가 접시를 건내줍니다.\n",
    "\n",
    "비동기 방식의 프로세스는 다음과 같습니다.\n",
    "\n",
    "> 접시를 씻는 사람은 접시를 다 씻고 둘 사이에 접시를 쌓아놓습니다."
   ]
  },
  {
   "cell_type": "markdown",
   "metadata": {},
   "source": [
    "## Processes\n",
    "\n",
    "프로세스는 컴퓨터의 기본 작업 처리 단위입니다.\n",
    "\n",
    "파이썬의 multiprcessing이란 모듈에서 Queue를 사용해 볼 수 있습니다.\n",
    "\n",
    "앞서 설거지의 예시를 파이썬 코드로 작성해 봅시다.\n",
    "\n",
    "접시를 씻는사람 1명, 말리는사람 여러명의 경우를 예로 들어봅시다."
   ]
  },
  {
   "cell_type": "code",
   "execution_count": 8,
   "metadata": {
    "collapsed": true
   },
   "outputs": [],
   "source": [
    "import multiprocessing as mp\n",
    "import time"
   ]
  },
  {
   "cell_type": "code",
   "execution_count": 9,
   "metadata": {
    "collapsed": true
   },
   "outputs": [],
   "source": [
    "def washer(dishes, output):\n",
    "    for dish in dishes:\n",
    "        print('Washing', dish, 'dish')\n",
    "        print(\"씻는중\")\n",
    "        time.sleep(2)\n",
    "        output.put(dish)\n",
    "                \n",
    "def dryer(input):\n",
    "    while True:\n",
    "        dish = input.get()\n",
    "        print('Drying', dish, 'dish')\n",
    "        input.task_done()"
   ]
  },
  {
   "cell_type": "code",
   "execution_count": 12,
   "metadata": {
    "collapsed": true
   },
   "outputs": [],
   "source": [
    "dish_queue = mp.JoinableQueue()\n",
    "dryer_proc = mp.Process(target=dryer, args=(dish_queue,))\n",
    "dishes = ['salad', 'bread', 'entree', 'dessert']"
   ]
  },
  {
   "cell_type": "markdown",
   "metadata": {},
   "source": [
    "- DAEMON\n",
    "\n",
    "> 데몬은 사용자의 서비스 요청에 대해 대기하고 있는 서비스 처리자 입니다."
   ]
  },
  {
   "cell_type": "code",
   "execution_count": 13,
   "metadata": {
    "scrolled": true
   },
   "outputs": [
    {
     "name": "stdout",
     "output_type": "stream",
     "text": [
      "Washing salad dish\n",
      "씻는중\n",
      "Drying salad dish\n",
      "Washing bread dish\n",
      "씻는중\n",
      "Drying bread dish\n",
      "Washing entree dish\n",
      "씻는중\n",
      "Drying entree dish\n",
      "Washing dessert dish\n",
      "씻는중\n",
      "Drying dessert dish\n"
     ]
    }
   ],
   "source": [
    "dryer_proc.daemon = True\n",
    "dryer_proc.start()\n",
    "washer(dishes, dish_queue)\n",
    "dish_queue.join()"
   ]
  },
  {
   "cell_type": "markdown",
   "metadata": {},
   "source": [
    "## Threads\n",
    "\n",
    "프로세스대신 스레드를 사용해 볼수도 있습니다.\n",
    "\n",
    "스레드는 한개의 프로세스 안에서 실행되며 프로세스 모든 부분에 접근 가능합니다. \n",
    "\n",
    "비유하자면, 프로세스가 작업자 한명이라면 스레드는 한사람 안의 여러 인격입니다.\n",
    "\n",
    "설거지 예제코드를 스레드로 만들어 보겠습니다."
   ]
  },
  {
   "cell_type": "code",
   "execution_count": 16,
   "metadata": {
    "collapsed": true
   },
   "outputs": [],
   "source": [
    "import threading, queue, time"
   ]
  },
  {
   "cell_type": "code",
   "execution_count": 17,
   "metadata": {
    "collapsed": true
   },
   "outputs": [],
   "source": [
    "def washer(dishes, dish_queue):\n",
    "    for dish in dishes:\n",
    "        print(\"Washing\", dish)\n",
    "        time.sleep(2)\n",
    "        dish_queue.put(dish)\n",
    "\n",
    "def dryer(dish_queue):\n",
    "    while True:\n",
    "        dish = dish_queue.get()\n",
    "        print(\"Drying\", dish)\n",
    "        time.sleep(4)\n",
    "        dish_queue.task_done()"
   ]
  },
  {
   "cell_type": "code",
   "execution_count": 18,
   "metadata": {
    "collapsed": true
   },
   "outputs": [],
   "source": [
    "dish_queue = queue.Queue()\n",
    "for n in range(2):\n",
    "    dryer_thread = threading.Thread(target=dryer, args=(dish_queue,))\n",
    "    dryer_thread.start()"
   ]
  },
  {
   "cell_type": "code",
   "execution_count": 19,
   "metadata": {
    "scrolled": true
   },
   "outputs": [
    {
     "name": "stdout",
     "output_type": "stream",
     "text": [
      "Washing salad\n",
      "WashingDrying bread\n",
      " salad\n",
      "WashingDrying bread entree\n",
      "\n",
      "WashingDrying entree\n",
      " dessert\n",
      "Drying dessert\n"
     ]
    }
   ],
   "source": [
    "dishes = ['salad', 'bread', 'entree', 'dessert']\n",
    "washer(dishes, dish_queue)\n",
    "dish_queue.join()"
   ]
  },
  {
   "cell_type": "markdown",
   "metadata": {},
   "source": [
    "> 출력 상태가 살짝 이상합니다. 다 이유가 있습니다. 뒤에서 설명합니다."
   ]
  },
  {
   "cell_type": "markdown",
   "metadata": {
    "collapsed": true
   },
   "source": [
    "스레드에는 종료함수가 없고 종료를 알리지도 않습니다. \n",
    "\n",
    "스레드를 컨트롤 하는 것은 엄청나게 위험할 수 있습니다. \n",
    "\n",
    "C나 C++ 언어에서 스레드를 컨트롤하는 것은 디버깅하기 매우 어려운 버그를 유발합니다.\n",
    "\n",
    "위의 예제코드에서는 다행히도 스레드들이 전역변수를 공유하지 않기 때문에 오류가 발생하지 않았습니다.\n",
    "\n",
    "**귀신을 예로들어 멀티스레드의 위험성을 설명해 보겠습니다.**\n",
    "\n",
    "> 당신은 유령의 집에 살고있습니다.\n",
    "\n",
    "> 집안의 유령들은 서로의 상태를 모릅니다. 유령을 스레드로 비유할 수 있습니다.\n",
    "\n",
    "> 유령들은 이 집의 가구들을 마음대로 옮기고 없에버릴 수 있습니다.\n",
    "\n",
    "> 당신이 집의 촛불을 켜려고 하는 순간 유령이 촛대를 폭탄으로 바꿀 수도 있습니다.\n",
    "\n",
    "집안의 가구들이 바로 프로그램의 변수입니다.\n",
    "\n",
    "이처럼 멀티스레드는 각각의 스레드가 공통의 전역변수를 공유하지 않는다는 가정하에\n",
    "\n",
    "안전하고 빠른 동시성을 보장할 수 있습니다.\n",
    "\n",
    "안전한 멀티스레드를 위해 변수를 잠궈버릴수도 있습니다. \n",
    "\n",
    "귀신으로 예를 들자면 특정 가구에 퇴마를 수행해 한동안 귀신이 접근하지 못하도록 막는것과 비슷합니다.\n",
    "\n",
    "다만, 이런방식은 어떤 변수를 잠궜다가 풀어줄지 고려하게 되면서 프로그램이 더 복잡해지도록 만듭니다.\n",
    "\n",
    "사실상 파이썬에서는 GIL(Global Interpreter Lock)이라 불리는 변수마다의 안전장치가 있습니다.\n",
    "\n",
    "따라서 CPU-bound 상태에서 스레드를 이용해 시간단축을 할 수 없습니다.\n",
    "\n",
    "결론적으로 파이썬에서 다음과 같은 방침을 따르는게 좋습니다.\n",
    "\n",
    "- 스레드는 I/O bound 문제를 위해 사용합니다.\n",
    "\n",
    "> 파이썬에서 I/O bound 작업은 스레드를 이용해 동시처리가 가능합니다.\n",
    "\n",
    "- CPU bound에 대해서는 프로세스와 네트워크, 이벤트등을 사용하도록 합니다."
   ]
  },
  {
   "cell_type": "markdown",
   "metadata": {},
   "source": [
    "## asyncio\n",
    "\n",
    "[파이썬에서의 동시성, 병렬성](https://www.slideshare.net/deview/2d4python)\n",
    "\n",
    "[파이썬에서의 동시성, 병렬성 2](https://okky.kr/article/388971)"
   ]
  },
  {
   "cell_type": "markdown",
   "metadata": {},
   "source": [
    "## Redis\n",
    "\n",
    "지금까지 설거지를 예로들어 프로세스와 스레드를 설명했습니다.\n",
    "\n",
    "하지만 지금까지 한가지 가정한게 있습니다. 바로 한대의 머신에서 프로그래밍이 이루어진다는 것이죠.\n",
    "\n",
    "이번엔 스케일을 확장해 여러대의 머신에서 실행해 보는건 어떨까요?\n",
    "\n",
    "지금부터 네트워크를 활용한 프로그래밍을 해봅시다! 간단한 예시로 redis서버를 이용합니다."
   ]
  },
  {
   "cell_type": "code",
   "execution_count": 1,
   "metadata": {},
   "outputs": [
    {
     "name": "stdout",
     "output_type": "stream",
     "text": [
      "Collecting redis\n",
      "  Downloading redis-2.10.6-py2.py3-none-any.whl (64kB)\n",
      "\u001b[K    100% |████████████████████████████████| 71kB 764kB/s ta 0:00:01\n",
      "\u001b[?25hInstalling collected packages: redis\n",
      "Successfully installed redis-2.10.6\n",
      "Reading package lists... Done\n",
      "Building dependency tree       \n",
      "Reading state information... Done\n",
      "The following additional packages will be installed:\n",
      "  libjemalloc1 redis-tools\n",
      "Suggested packages:\n",
      "  ruby-redis\n",
      "The following NEW packages will be installed:\n",
      "  libjemalloc1 redis-server redis-tools\n",
      "0 upgraded, 3 newly installed, 0 to remove and 2 not upgraded.\n",
      "Need to get 517 kB of archives.\n",
      "After this operation, 1505 kB of additional disk space will be used.\n",
      "Get:1 http://archive.ubuntu.com/ubuntu xenial/universe amd64 libjemalloc1 amd64 3.6.0-9ubuntu1 [78.9 kB]\n",
      "Get:2 http://archive.ubuntu.com/ubuntu xenial/universe amd64 redis-tools amd64 2:3.0.6-1 [95.3 kB]\n",
      "Get:3 http://archive.ubuntu.com/ubuntu xenial/universe amd64 redis-server amd64 2:3.0.6-1 [343 kB]\n",
      "Fetched 517 kB in 5s (95.5 kB/s)       \n",
      "debconf: unable to initialize frontend: Dialog\n",
      "debconf: (No usable dialog-like program is installed, so the dialog based frontend cannot be used. at /usr/share/perl5/Debconf/FrontEnd/Dialog.pm line 76, <> line 3.)\n",
      "debconf: falling back to frontend: Readline\n",
      "Selecting previously unselected package libjemalloc1.\n",
      "(Reading database ... 20151 files and directories currently installed.)\n",
      "Preparing to unpack .../libjemalloc1_3.6.0-9ubuntu1_amd64.deb ...\n",
      "Unpacking libjemalloc1 (3.6.0-9ubuntu1) ...\n",
      "Selecting previously unselected package redis-tools.\n",
      "Preparing to unpack .../redis-tools_2%3a3.0.6-1_amd64.deb ...\n",
      "Unpacking redis-tools (2:3.0.6-1) ...\n",
      "Selecting previously unselected package redis-server.\n",
      "Preparing to unpack .../redis-server_2%3a3.0.6-1_amd64.deb ...\n",
      "Unpacking redis-server (2:3.0.6-1) ...\n",
      "Processing triggers for libc-bin (2.23-0ubuntu9) ...\n",
      "Processing triggers for systemd (229-4ubuntu19) ...\n",
      "Setting up libjemalloc1 (3.6.0-9ubuntu1) ...\n",
      "Setting up redis-tools (2:3.0.6-1) ...\n",
      "Setting up redis-server (2:3.0.6-1) ...\n",
      "invoke-rc.d: could not determine current runlevel\n",
      "invoke-rc.d: policy-rc.d denied execution of start.\n",
      "Processing triggers for libc-bin (2.23-0ubuntu9) ...\n",
      "Processing triggers for systemd (229-4ubuntu19) ...\n",
      "yes: standard output: Broken pipe\n",
      "Stopping redis-server: redis-server.\n",
      "Starting redis-server: redis-server.\n"
     ]
    }
   ],
   "source": [
    "! pip install redis\n",
    "! yes | apt-get install redis-server"
   ]
  },
  {
   "cell_type": "markdown",
   "metadata": {},
   "source": [
    "**./washer.py**\n",
    "```python\n",
    "import redis, time\n",
    "conn = redis.Redis()\n",
    "print('Washer is starating')\n",
    "dishes = ['salad', 'bread', 'entree', 'dessert']\n",
    "for dish in dishes:\n",
    "    time.sleep(1)\n",
    "    msg = dish.encode('utf-8')\n",
    "    conn.rpush('dishes', msg)\n",
    "    print('Washed', dish)\n",
    "conn.rpush('dishes', 'quit')\n",
    "print('Washer is done')\n",
    "```"
   ]
  },
  {
   "cell_type": "markdown",
   "metadata": {},
   "source": [
    "**./dryer.py**\n",
    "```python\n",
    "import redis\n",
    "conn = redis.Redis()\n",
    "print('Dryer is starting')\n",
    "while True:\n",
    "    msg = conn.blpop('dishes')\n",
    "    if not msg:\n",
    "        break\n",
    "    val = msg[1].decode('utf-8')\n",
    "    if val == 'quit':\n",
    "        break\n",
    "    print('Dried', val)\n",
    "print('Dishes are dried')\n",
    "```"
   ]
  },
  {
   "cell_type": "code",
   "execution_count": 1,
   "metadata": {},
   "outputs": [
    {
     "name": "stdout",
     "output_type": "stream",
     "text": [
      "Stopping redis-server: redis-server.\n",
      "Starting redis-server: redis-server.\n",
      "Dryer is starting\n",
      "Washer is starating\n",
      "Washed salad\n",
      "Dried salad\n",
      "Washed bread\n",
      "Dried bread\n",
      "Washed entree\n",
      "Dried entree\n",
      "Washed dessert\n",
      "Dried dessert\n",
      "Washer is done\n",
      "Dishes are dried\n"
     ]
    }
   ],
   "source": [
    "! /etc/init.d/redis-server restart\n",
    "! python dryer.py & python washer.py"
   ]
  },
  {
   "cell_type": "markdown",
   "metadata": {},
   "source": [
    "## Beyond Queues"
   ]
  },
  {
   "cell_type": "markdown",
   "metadata": {},
   "source": [
    "## Networks\n",
    "\n",
    "지금까지 동시성에 대해 논의할 때, Redis를 제외하고는 모두 네트워크를 사용하지 않았습니다.\n",
    "\n",
    "이전에 말했듯 네트워크를 사용하면 한개 이상의 머신에서 작업을 수행하는게 가능해집니다.\n",
    "\n",
    "네트워크를 이용해 작업을 처리할 때는 몇가지 패턴이 있는데 다음과 같습니다.\n",
    "\n",
    "- request-reply (client-server)\n",
    "\n",
    "> 대표적으로 웹서버가 있습니다. 클라이언트가 요청을 보내면 서버가 응답합니다.\n",
    "\n",
    "> 서버가 응답하기 전까지 클라이언트는 기다려야 합니다. 동기식 처리방식입니다.\n",
    "\n",
    "- push\n",
    "\n",
    "> 중앙에서 작업을 처리할 수 있는 시스템으로 데이타를 전송합니다.\n",
    "\n",
    "> 대표적으로 로드벨런서-다중웹서버 시스템이 이와 같습니다.\n",
    "\n",
    "- pull\n",
    "\n",
    "> 데이타를 받을수 있는 모든곳으로 부터 데이타를 받습니다.\n",
    "\n",
    "> 서버에서 일어나는 일을 모두 기록하는 로그가 이와 같습니다.\n",
    "\n",
    "- **publush-subscribe**\n",
    "\n",
    "> 쉽게말해 텔레비전 방송처럼 동작하는 시스템입니다.\n",
    "\n",
    "> 중앙에서 데이타를 뿌리면 받을수 있는 곳에서 받습니다.\n",
    "\n",
    "> 데이타를 받는 위치에 있는 시스템은 어떤데이타만 받을지 선택 가능합니다."
   ]
  },
  {
   "cell_type": "markdown",
   "metadata": {},
   "source": [
    "## The Publish-Subscribe Model\n",
    "\n",
    "Publish-Subscribe 모델은 Queue가 아니라 Broadcast라고 부릅니다.\n",
    "\n",
    "Publish하는 시스템은 어떤 시스템이 Subscribe할지 알지 못합니다.\n",
    "\n",
    "Redis서버가 간단하게 이 모델을 구축할 수 있습니다."
   ]
  },
  {
   "cell_type": "markdown",
   "metadata": {
    "collapsed": true
   },
   "source": [
    "**./pub.py**\n",
    "```python\n",
    "import redis, random\n",
    "conn = redis.Redis()\n",
    "cats = ['siamese', 'persian', 'maine coon', 'norwegian forest']\n",
    "hats = ['stovepipe', 'bowler', 'tam-o-shanter', 'fedora']\n",
    "for msg in range(10):\n",
    "    cat = random.choice(cats)\n",
    "    hat = random.choice(hats)\n",
    "    print('Publish: %s wears s %s' % (cat, hat))\n",
    "    conn.publish(cat, hat)\n",
    "```"
   ]
  },
  {
   "cell_type": "markdown",
   "metadata": {
    "collapsed": true
   },
   "source": [
    "**./sub.py**\n",
    "```python\n",
    "import redis\n",
    "conn = redis.Redis()\n",
    "topics = ['maine coon', 'persian']\n",
    "sub = conn.pubsub()\n",
    "sub.subscribe(topics)\n",
    "for msg in sub.listen():\n",
    "    if msg['type'] == 'message':\n",
    "        cat = msg['channel']\n",
    "        hat = msg['data']\n",
    "        print('Subscribe: %s wears a %s' % (cat, hat))\n",
    "```"
   ]
  },
  {
   "cell_type": "code",
   "execution_count": 4,
   "metadata": {},
   "outputs": [
    {
     "name": "stdout",
     "output_type": "stream",
     "text": [
      "Stopping redis-server: redis-server.\n",
      "Starting redis-server: redis-server.\n",
      "Publish: persian wears s fedora\n",
      "Publish: persian wears s tam-o-shanter\n",
      "Publish: persian wears s tam-o-shanter\n",
      "Publish: maine coon wears s tam-o-shanter\n",
      "Publish: siamese wears s fedora\n",
      "Publish: norwegian forest wears s stovepipe\n",
      "Publish: maine coon wears s stovepipe\n",
      "Publish: maine coon wears s fedora\n",
      "Publish: persian wears s fedora\n",
      "Subscribe: b'maine coon' wears a b'fedora'\n",
      "Subscribe: b'persian' wears a b'fedora'\n",
      "Publish: norwegian forest wears s fedora\n"
     ]
    }
   ],
   "source": [
    "! /etc/init.d/redis-server restart\n",
    "! python sub.py & python pub.py"
   ]
  },
  {
   "cell_type": "markdown",
   "metadata": {
    "collapsed": true
   },
   "source": [
    "## ZeroMQ\n",
    "\n",
    "ZeroMQ 패키지는 Redis와 다르게 중앙서버가 없습니다.\n",
    "\n",
    "복잡한 설치 없이도 예제코드를 돌려볼 수 있습니다. 어떤 경우엔 Redis보다 좋다고 합니다!"
   ]
  },
  {
   "cell_type": "markdown",
   "metadata": {
    "collapsed": true
   },
   "source": [
    "## TCP/IP\n",
    "\n",
    "여기까지 네트워크에 관련한 시스템 구조들을 살펴보았습니다.\n",
    "\n",
    "이제 네트워크 자체가 어떻게 동작하는지 좀더 세부적으로 살펴보도록 합시다.\n",
    "\n",
    "![](1.png)\n",
    "\n",
    "알필요는 없지만 가장 아래의 물리계층은 전기신호같은걸 다루는 계층이라고 합니다.\n",
    "\n",
    "알필요는 없지만 상위 계층은 하위계층으로부터 구성되며,\n",
    "\n",
    "이런 구조 덕분에 상위계층의 작업자는 하위계층까지 일일히 작업할 필요가 없어집니다.\n",
    "\n",
    "- IP\n",
    "\n",
    "> IP는 보내는 컴퓨터에서 받는 컴퓨터까지의 통신을 책임집니다.\n",
    "\n",
    "> 호스트는 자기 자신의 주소를 로컬호스트라 불리는 127.0.0.1로 지정합니다.\n",
    "\n",
    "> 호스트가 외부 망과 연결되면 공용 아이피 주소를 갖게 됩니다.\n",
    "\n",
    "> 경찰이 아이피 추적을 한다면 이 공용 아이피를 추적하는 것입니다.\n",
    "\n",
    "- TCP\n",
    "\n",
    "> 통신할때 IP와 함께 사용되는 프로토콜입니다.\n",
    "\n",
    "> IP가 데이터를 전송한다면 TCP는 그 데이터를 추적, 관리합니다.\n",
    "\n",
    "우리가 상호작용하는 대부분의 통신은 TCP/IP기반입니다."
   ]
  }
 ],
 "metadata": {
  "kernelspec": {
   "display_name": "Python 3",
   "language": "python",
   "name": "python3"
  },
  "language_info": {
   "codemirror_mode": {
    "name": "ipython",
    "version": 3
   },
   "file_extension": ".py",
   "mimetype": "text/x-python",
   "name": "python",
   "nbconvert_exporter": "python",
   "pygments_lexer": "ipython3",
   "version": "3.6.1"
  }
 },
 "nbformat": 4,
 "nbformat_minor": 2
}
